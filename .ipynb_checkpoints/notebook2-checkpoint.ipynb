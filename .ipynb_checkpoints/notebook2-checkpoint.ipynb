{
 "cells": [
  {
   "cell_type": "code",
   "execution_count": null,
   "metadata": {
    "_cell_guid": "b1076dfc-b9ad-4769-8c92-a6c4dae69d19",
    "_uuid": "8f2839f25d086af736a60e9eeb907d3b93b6e0e5",
    "execution": {
     "iopub.execute_input": "2021-08-11T08:35:55.401738Z",
     "iopub.status.busy": "2021-08-11T08:35:55.401393Z",
     "iopub.status.idle": "2021-08-11T08:35:55.458379Z",
     "shell.execute_reply": "2021-08-11T08:35:55.4574Z",
     "shell.execute_reply.started": "2021-08-11T08:35:55.401711Z"
    }
   },
   "outputs": [],
   "source": [
    "# This Python 3 environment comes with many helpful analytics libraries installed\n",
    "# It is defined by the kaggle/python Docker image: https://github.com/kaggle/docker-python\n",
    "# For example, here's several helpful packages to load\n",
    "\n",
    "import numpy as np # linear algebra\n",
    "import pandas as pd # data processing, CSV file I/O (e.g. pd.read_csv)\n",
    "\n",
    "# Input data files are available in the read-only \"../input/\" directory\n",
    "# For example, running this (by clicking run or pressing Shift+Enter) will list all files under the input directory\n",
    "\n",
    "import os\n",
    "for dirname, _, filenames in os.walk('/kaggle/input'):\n",
    "    for filename in filenames:\n",
    "        print(os.path.join(dirname, filename))\n",
    "\n",
    "# You can write up to 20GB to the current directory (/kaggle/working/) that gets preserved as output when you create a version using \"Save & Run All\" \n",
    "# You can also write temporary files to /kaggle/temp/, but they won't be saved outside of the current session"
   ]
  },
  {
   "cell_type": "code",
   "execution_count": null,
   "metadata": {
    "execution": {
     "iopub.execute_input": "2021-08-11T08:35:59.45062Z",
     "iopub.status.busy": "2021-08-11T08:35:59.45025Z",
     "iopub.status.idle": "2021-08-11T08:36:00.514494Z",
     "shell.execute_reply": "2021-08-11T08:36:00.513509Z",
     "shell.execute_reply.started": "2021-08-11T08:35:59.450592Z"
    }
   },
   "outputs": [],
   "source": [
    "import matplotlib.pyplot as plt\n",
    "import seaborn as sns\n",
    "import pandas as pd\n",
    "import numpy as np\n",
    "\n",
    "\n",
    "import pandas as pd\n",
    "import numpy as np\n",
    "# define column names for easy indexing\n",
    "index_names = ['engine', 'cycle']\n",
    "setting_names = ['setting_1', 'setting_2', 'setting_3']\n",
    "sensor_names = ['sensor_{}'.format(i) for i in range(1,22)] \n",
    "col_names = index_names + setting_names + sensor_names\n"
   ]
  },
  {
   "cell_type": "code",
   "execution_count": null,
   "metadata": {
    "execution": {
     "iopub.execute_input": "2021-08-11T08:36:02.922535Z",
     "iopub.status.busy": "2021-08-11T08:36:02.922167Z",
     "iopub.status.idle": "2021-08-11T08:36:03.22653Z",
     "shell.execute_reply": "2021-08-11T08:36:03.225563Z",
     "shell.execute_reply.started": "2021-08-11T08:36:02.922508Z"
    }
   },
   "outputs": [],
   "source": [
    "# read data\n",
    "\n",
    "# define filepath to read data\n",
    "dir_path = '/kaggle/input/nasa-cmaps/CMaps/'\n",
    "\n",
    "train = pd.read_csv(('/kaggle/input/nasa-cmaps/CMaps/train_FD001.txt'), sep='\\s+', header=None, names=col_names)\n",
    "test = pd.read_csv(('/kaggle/input/nasa-cmaps/cmaps/CMaps/test_FD001.txt'), sep='\\s+', header=None, names=col_names)\n",
    "y_test = pd.read_csv(('/kaggle/input/nasa-cmaps/cmaps/CMaps/RUL_FD001.txt'), sep='\\s+', header=None, names=['RUL'])\n"
   ]
  },
  {
   "cell_type": "code",
   "execution_count": null,
   "metadata": {
    "execution": {
     "iopub.execute_input": "2021-08-11T08:36:03.846196Z",
     "iopub.status.busy": "2021-08-11T08:36:03.845852Z",
     "iopub.status.idle": "2021-08-11T08:36:03.876618Z",
     "shell.execute_reply": "2021-08-11T08:36:03.875602Z",
     "shell.execute_reply.started": "2021-08-11T08:36:03.846169Z"
    }
   },
   "outputs": [],
   "source": [
    "test_df= test.groupby('engine').agg({'cycle':'max'})"
   ]
  },
  {
   "cell_type": "code",
   "execution_count": null,
   "metadata": {
    "execution": {
     "iopub.execute_input": "2021-08-11T08:36:06.199347Z",
     "iopub.status.busy": "2021-08-11T08:36:06.198958Z",
     "iopub.status.idle": "2021-08-11T08:36:06.206177Z",
     "shell.execute_reply": "2021-08-11T08:36:06.205333Z",
     "shell.execute_reply.started": "2021-08-11T08:36:06.199282Z"
    }
   },
   "outputs": [],
   "source": [
    "y_test['cycle'] = test_df['cycle']"
   ]
  },
  {
   "cell_type": "code",
   "execution_count": null,
   "metadata": {
    "execution": {
     "iopub.execute_input": "2021-08-11T08:36:07.378353Z",
     "iopub.status.busy": "2021-08-11T08:36:07.377996Z",
     "iopub.status.idle": "2021-08-11T08:36:07.386041Z",
     "shell.execute_reply": "2021-08-11T08:36:07.384941Z",
     "shell.execute_reply.started": "2021-08-11T08:36:07.378318Z"
    }
   },
   "outputs": [],
   "source": [
    "cycle=[]\n",
    "for i in range(len(y_test)):\n",
    "    try:\n",
    "        cycle.append(y_test['RUL'][i] + y_test['cycle'][i+1])\n",
    "    except:\n",
    "        cycle.append(198+20)"
   ]
  },
  {
   "cell_type": "code",
   "execution_count": null,
   "metadata": {
    "execution": {
     "iopub.execute_input": "2021-08-11T08:36:10.278234Z",
     "iopub.status.busy": "2021-08-11T08:36:10.277882Z",
     "iopub.status.idle": "2021-08-11T08:36:10.28472Z",
     "shell.execute_reply": "2021-08-11T08:36:10.283459Z",
     "shell.execute_reply.started": "2021-08-11T08:36:10.278206Z"
    }
   },
   "outputs": [],
   "source": [
    "test_df['cycle']= cycle"
   ]
  },
  {
   "cell_type": "code",
   "execution_count": null,
   "metadata": {
    "execution": {
     "iopub.execute_input": "2021-08-11T08:36:11.461212Z",
     "iopub.status.busy": "2021-08-11T08:36:11.460854Z",
     "iopub.status.idle": "2021-08-11T08:36:11.469879Z",
     "shell.execute_reply": "2021-08-11T08:36:11.468889Z",
     "shell.execute_reply.started": "2021-08-11T08:36:11.461182Z"
    }
   },
   "outputs": [],
   "source": [
    "train_df= train.groupby('engine').agg({'cycle':'max'})"
   ]
  },
  {
   "cell_type": "code",
   "execution_count": null,
   "metadata": {
    "execution": {
     "iopub.execute_input": "2021-08-11T08:36:12.592366Z",
     "iopub.status.busy": "2021-08-11T08:36:12.591994Z",
     "iopub.status.idle": "2021-08-11T08:36:12.677183Z",
     "shell.execute_reply": "2021-08-11T08:36:12.676139Z",
     "shell.execute_reply.started": "2021-08-11T08:36:12.592338Z"
    }
   },
   "outputs": [],
   "source": [
    "def add_remaining_useful_life(df, max_df):\n",
    "    # Get the total number of cycles for each unit\n",
    "    max_cycle= max_df['cycle']\n",
    "    \n",
    "    # Merge the max cycle back into the original frame\n",
    "    result_frame = df.merge(max_cycle.to_frame(name='max_cycle'), left_on='engine', right_index=True)\n",
    "    \n",
    "    # Calculate remaining useful life for each row\n",
    "    remaining_useful_life = result_frame[\"max_cycle\"] - result_frame[\"cycle\"]\n",
    "    result_frame[\"RUL\"] = remaining_useful_life\n",
    "    \n",
    "    # drop max_cycle as it's no longer needed\n",
    "    result_frame = result_frame.drop(\"max_cycle\", axis=1)\n",
    "    return result_frame\n",
    "  \n",
    "train = add_remaining_useful_life(train,train_df)\n",
    "test=add_remaining_useful_life(test,test_df)\n",
    "test[index_names+['RUL']].head()"
   ]
  },
  {
   "cell_type": "code",
   "execution_count": null,
   "metadata": {
    "execution": {
     "iopub.execute_input": "2021-08-11T08:36:15.573828Z",
     "iopub.status.busy": "2021-08-11T08:36:15.573489Z",
     "iopub.status.idle": "2021-08-11T08:36:15.579786Z",
     "shell.execute_reply": "2021-08-11T08:36:15.578816Z",
     "shell.execute_reply.started": "2021-08-11T08:36:15.573801Z"
    }
   },
   "outputs": [],
   "source": [
    "data=train.copy()\n",
    "\n",
    "test_data=test.copy()"
   ]
  },
  {
   "cell_type": "code",
   "execution_count": null,
   "metadata": {
    "execution": {
     "iopub.execute_input": "2021-08-11T08:36:16.813861Z",
     "iopub.status.busy": "2021-08-11T08:36:16.81351Z",
     "iopub.status.idle": "2021-08-11T08:36:16.82766Z",
     "shell.execute_reply": "2021-08-11T08:36:16.826625Z",
     "shell.execute_reply.started": "2021-08-11T08:36:16.813832Z"
    }
   },
   "outputs": [],
   "source": [
    "test_data['increasing']=test_data['sensor_2']+ test_data['sensor_3']+ test_data['sensor_4']+test_data['sensor_8']+test_data['sensor_13']+ test_data['sensor_15']+test_data['sensor_17']\n",
    "\n",
    "data['increasing']=data['sensor_2']+ data['sensor_3']+ data['sensor_4']+data['sensor_8']+data['sensor_13']+ data['sensor_15']+data['sensor_17']\n"
   ]
  },
  {
   "cell_type": "code",
   "execution_count": null,
   "metadata": {
    "execution": {
     "iopub.execute_input": "2021-08-11T08:36:19.828011Z",
     "iopub.status.busy": "2021-08-11T08:36:19.827642Z",
     "iopub.status.idle": "2021-08-11T08:36:19.839106Z",
     "shell.execute_reply": "2021-08-11T08:36:19.838175Z",
     "shell.execute_reply.started": "2021-08-11T08:36:19.827972Z"
    }
   },
   "outputs": [],
   "source": [
    "data['decreasing']=data['sensor_7']+data['sensor_12'] + data['sensor_20'] + data['sensor_21']\n",
    "\n",
    "test_data['decreasing']=test_data['sensor_7']+test_data['sensor_12'] + test_data['sensor_20'] + test_data['sensor_21']"
   ]
  },
  {
   "cell_type": "code",
   "execution_count": null,
   "metadata": {
    "execution": {
     "iopub.execute_input": "2021-08-11T08:36:21.124566Z",
     "iopub.status.busy": "2021-08-11T08:36:21.12418Z",
     "iopub.status.idle": "2021-08-11T08:36:21.133211Z",
     "shell.execute_reply": "2021-08-11T08:36:21.132189Z",
     "shell.execute_reply.started": "2021-08-11T08:36:21.124536Z"
    }
   },
   "outputs": [],
   "source": [
    "def plot_sensor(sensor_name,X):\n",
    "    plt.figure(figsize=(13,5))\n",
    "    for i in X['engine'].unique():\n",
    "        if (i % 10 == 0):  # only plot every engine\n",
    "            plt.plot('RUL', sensor_name, \n",
    "                     data=X[X['engine']==i])\n",
    "            #plt.axvline(60, color='red', linestyle='dashed', linewidth=4)\n",
    "    plt.xlim(250, 0)  # reverse the x-axis so RUL counts down to zero\n",
    "    plt.xticks(np.arange(0, 275, 25))\n",
    "    plt.ylabel(sensor_name)\n",
    "    plt.xlabel('Remaining Use fulLife')\n",
    "    plt.show()"
   ]
  },
  {
   "cell_type": "code",
   "execution_count": null,
   "metadata": {
    "execution": {
     "iopub.execute_input": "2021-08-11T08:36:22.627413Z",
     "iopub.status.busy": "2021-08-11T08:36:22.627057Z",
     "iopub.status.idle": "2021-08-11T08:36:22.879732Z",
     "shell.execute_reply": "2021-08-11T08:36:22.878597Z",
     "shell.execute_reply.started": "2021-08-11T08:36:22.627375Z"
    }
   },
   "outputs": [],
   "source": [
    "plot_sensor('increasing',data)"
   ]
  },
  {
   "cell_type": "code",
   "execution_count": null,
   "metadata": {
    "execution": {
     "iopub.execute_input": "2021-08-11T08:36:26.158836Z",
     "iopub.status.busy": "2021-08-11T08:36:26.158493Z",
     "iopub.status.idle": "2021-08-11T08:36:26.383199Z",
     "shell.execute_reply": "2021-08-11T08:36:26.382444Z",
     "shell.execute_reply.started": "2021-08-11T08:36:26.158808Z"
    }
   },
   "outputs": [],
   "source": [
    "plot_sensor('increasing',test_data)"
   ]
  },
  {
   "cell_type": "code",
   "execution_count": null,
   "metadata": {
    "execution": {
     "iopub.execute_input": "2021-08-11T08:36:30.096594Z",
     "iopub.status.busy": "2021-08-11T08:36:30.096181Z",
     "iopub.status.idle": "2021-08-11T08:36:30.321403Z",
     "shell.execute_reply": "2021-08-11T08:36:30.320631Z",
     "shell.execute_reply.started": "2021-08-11T08:36:30.09656Z"
    }
   },
   "outputs": [],
   "source": [
    "plot_sensor('decreasing',data)"
   ]
  },
  {
   "cell_type": "code",
   "execution_count": null,
   "metadata": {
    "execution": {
     "iopub.execute_input": "2021-08-11T08:36:34.11463Z",
     "iopub.status.busy": "2021-08-11T08:36:34.114065Z",
     "iopub.status.idle": "2021-08-11T08:36:34.341968Z",
     "shell.execute_reply": "2021-08-11T08:36:34.34124Z",
     "shell.execute_reply.started": "2021-08-11T08:36:34.114593Z"
    }
   },
   "outputs": [],
   "source": [
    "plot_sensor('decreasing',test_data)"
   ]
  },
  {
   "cell_type": "code",
   "execution_count": null,
   "metadata": {
    "execution": {
     "iopub.execute_input": "2021-08-11T08:36:37.597771Z",
     "iopub.status.busy": "2021-08-11T08:36:37.597264Z",
     "iopub.status.idle": "2021-08-11T08:36:37.68669Z",
     "shell.execute_reply": "2021-08-11T08:36:37.685668Z",
     "shell.execute_reply.started": "2021-08-11T08:36:37.59774Z"
    }
   },
   "outputs": [],
   "source": [
    "from scipy.signal import savgol_filter"
   ]
  },
  {
   "cell_type": "code",
   "execution_count": null,
   "metadata": {
    "execution": {
     "iopub.execute_input": "2021-08-11T08:36:38.978754Z",
     "iopub.status.busy": "2021-08-11T08:36:38.978412Z",
     "iopub.status.idle": "2021-08-11T08:36:38.986655Z",
     "shell.execute_reply": "2021-08-11T08:36:38.985502Z",
     "shell.execute_reply.started": "2021-08-11T08:36:38.978725Z"
    }
   },
   "outputs": [],
   "source": [
    "#Check correlation for the increasing trend sensors first\n",
    "\n",
    "def get_correlation_plots(component,a,train_PCA,x=250,y=25):\n",
    "    plt.figure(figsize=(10,4))\n",
    "    for engine in train_PCA.engine.unique():\n",
    "        if engine%10==0:\n",
    "            data= train_PCA[train_PCA['engine']==engine]\n",
    "            y1=data[component].ewm(com=0.1).mean()\n",
    "            y1= savgol_filter(y1, a, 3)\n",
    "            #plt.figure(figsize=(10,4))\n",
    "            plt.plot(data['RUL'],y1)\n",
    "            #plt.plot(random['RUL'], random['ssensor_2'])\n",
    "            plt.xlim(x, 0)  # reverse the x-axis so RUL counts down to zero\n",
    "            plt.xticks(np.arange(0, x, y))\n",
    "            plt.ylabel('Exponential Weighted Moving Average')\n",
    "            plt.xlabel('Remaining Use fulLife')\n",
    "            plt.grid(True)\n",
    "    plt.show()"
   ]
  },
  {
   "cell_type": "code",
   "execution_count": null,
   "metadata": {
    "execution": {
     "iopub.execute_input": "2021-08-11T08:36:41.279167Z",
     "iopub.status.busy": "2021-08-11T08:36:41.278616Z",
     "iopub.status.idle": "2021-08-11T08:36:41.898912Z",
     "shell.execute_reply": "2021-08-11T08:36:41.89793Z",
     "shell.execute_reply.started": "2021-08-11T08:36:41.27912Z"
    }
   },
   "outputs": [],
   "source": [
    "get_correlation_plots('increasing',21,data)"
   ]
  },
  {
   "cell_type": "code",
   "execution_count": null,
   "metadata": {
    "execution": {
     "iopub.execute_input": "2021-08-11T08:36:44.894542Z",
     "iopub.status.busy": "2021-08-11T08:36:44.894173Z",
     "iopub.status.idle": "2021-08-11T08:36:45.138391Z",
     "shell.execute_reply": "2021-08-11T08:36:45.13768Z",
     "shell.execute_reply.started": "2021-08-11T08:36:44.894512Z"
    }
   },
   "outputs": [],
   "source": [
    "get_correlation_plots('increasing',21,test_data)"
   ]
  },
  {
   "cell_type": "code",
   "execution_count": null,
   "metadata": {
    "execution": {
     "iopub.execute_input": "2021-08-11T06:45:23.497708Z",
     "iopub.status.busy": "2021-08-11T06:45:23.49725Z",
     "iopub.status.idle": "2021-08-11T06:45:23.726733Z",
     "shell.execute_reply": "2021-08-11T06:45:23.725823Z",
     "shell.execute_reply.started": "2021-08-11T06:45:23.497678Z"
    }
   },
   "outputs": [],
   "source": [
    "get_correlation_plots('decreasing',11,data)"
   ]
  },
  {
   "cell_type": "code",
   "execution_count": null,
   "metadata": {
    "execution": {
     "iopub.execute_input": "2021-08-11T08:36:47.404075Z",
     "iopub.status.busy": "2021-08-11T08:36:47.40354Z",
     "iopub.status.idle": "2021-08-11T08:36:47.66613Z",
     "shell.execute_reply": "2021-08-11T08:36:47.66499Z",
     "shell.execute_reply.started": "2021-08-11T08:36:47.404017Z"
    }
   },
   "outputs": [],
   "source": [
    "get_correlation_plots('decreasing',21,test_data)"
   ]
  },
  {
   "cell_type": "code",
   "execution_count": null,
   "metadata": {
    "execution": {
     "iopub.execute_input": "2021-08-11T08:36:51.229432Z",
     "iopub.status.busy": "2021-08-11T08:36:51.228888Z",
     "iopub.status.idle": "2021-08-11T08:36:51.571973Z",
     "shell.execute_reply": "2021-08-11T08:36:51.570996Z",
     "shell.execute_reply.started": "2021-08-11T08:36:51.229397Z"
    }
   },
   "outputs": [],
   "source": [
    "get_correlation_plots('increasing',15,data[data['RUL']<21],21,1)"
   ]
  },
  {
   "cell_type": "code",
   "execution_count": null,
   "metadata": {
    "execution": {
     "iopub.execute_input": "2021-08-11T08:36:55.367878Z",
     "iopub.status.busy": "2021-08-11T08:36:55.367513Z",
     "iopub.status.idle": "2021-08-11T08:36:55.554744Z",
     "shell.execute_reply": "2021-08-11T08:36:55.55386Z",
     "shell.execute_reply.started": "2021-08-11T08:36:55.36785Z"
    }
   },
   "outputs": [],
   "source": [
    "corr_train=[]\n",
    "\n",
    "for engine in data.engine.unique():\n",
    "    X= data[data['engine']==engine]\n",
    "    x1=X['increasing'].ewm(com=0.5).mean()\n",
    "    x1= savgol_filter(x1, 27, 3)\n",
    "    corr_train.append(x1)"
   ]
  },
  {
   "cell_type": "code",
   "execution_count": null,
   "metadata": {
    "execution": {
     "iopub.execute_input": "2021-08-11T08:36:56.582165Z",
     "iopub.status.busy": "2021-08-11T08:36:56.581666Z",
     "iopub.status.idle": "2021-08-11T08:36:56.758585Z",
     "shell.execute_reply": "2021-08-11T08:36:56.757704Z",
     "shell.execute_reply.started": "2021-08-11T08:36:56.582133Z"
    }
   },
   "outputs": [],
   "source": [
    "corr_test=[]\n",
    "\n",
    "for engine in test_data.engine.unique():\n",
    "    data1= test_data[test_data['engine']==engine]\n",
    "    y1=data1['increasing'].ewm(com=0.5).mean()\n",
    "    y1= savgol_filter(y1, 27, 3)\n",
    "    corr_test.append(y1)"
   ]
  },
  {
   "cell_type": "code",
   "execution_count": null,
   "metadata": {
    "execution": {
     "iopub.execute_input": "2021-08-11T08:36:58.442737Z",
     "iopub.status.busy": "2021-08-11T08:36:58.442401Z",
     "iopub.status.idle": "2021-08-11T08:36:58.452024Z",
     "shell.execute_reply": "2021-08-11T08:36:58.450893Z",
     "shell.execute_reply.started": "2021-08-11T08:36:58.442708Z"
    }
   },
   "outputs": [],
   "source": [
    "def get_flat_list(comp):\n",
    "    flat_list = [item for sublist in comp for item in sublist]\n",
    "    return flat_list\n",
    "\n",
    "corr_train=get_flat_list(corr_train)\n",
    "\n",
    "corr_test=get_flat_list(corr_test)"
   ]
  },
  {
   "cell_type": "code",
   "execution_count": null,
   "metadata": {
    "execution": {
     "iopub.execute_input": "2021-08-11T08:36:59.774345Z",
     "iopub.status.busy": "2021-08-11T08:36:59.773763Z",
     "iopub.status.idle": "2021-08-11T08:36:59.791083Z",
     "shell.execute_reply": "2021-08-11T08:36:59.790359Z",
     "shell.execute_reply.started": "2021-08-11T08:36:59.774266Z"
    }
   },
   "outputs": [],
   "source": [
    "data['EWM']= corr_train\n",
    "\n",
    "test_data['EWM']=corr_test"
   ]
  },
  {
   "cell_type": "code",
   "execution_count": null,
   "metadata": {
    "execution": {
     "iopub.execute_input": "2021-08-11T06:46:46.403491Z",
     "iopub.status.busy": "2021-08-11T06:46:46.403131Z",
     "iopub.status.idle": "2021-08-11T06:46:46.413353Z",
     "shell.execute_reply": "2021-08-11T06:46:46.412344Z",
     "shell.execute_reply.started": "2021-08-11T06:46:46.403462Z"
    }
   },
   "outputs": [],
   "source": [
    "data['week']= (data['RUL']/7).astype(int)\n",
    "\n",
    "test_data['week']= (data['RUL']/7).astype(int)"
   ]
  },
  {
   "cell_type": "code",
   "execution_count": null,
   "metadata": {
    "execution": {
     "iopub.execute_input": "2021-08-11T06:46:53.9058Z",
     "iopub.status.busy": "2021-08-11T06:46:53.905378Z",
     "iopub.status.idle": "2021-08-11T06:46:55.151697Z",
     "shell.execute_reply": "2021-08-11T06:46:55.151005Z",
     "shell.execute_reply.started": "2021-08-11T06:46:53.905767Z"
    }
   },
   "outputs": [],
   "source": [
    "plt.figure(figsize=(25,6))\n",
    "\n",
    "sns.boxplot('week','EWM',data=data)\n",
    "plt.xlim(48,0)\n",
    "plt.axhline(8830.59,color='black', linestyle='dashed', linewidth=1.5)\n",
    "\n",
    "#plt.axhline(1139.63,color='black', linestyle='dashed', linewidth=1.5)\n",
    "plt.title('RUL for risky EWMA per week')"
   ]
  },
  {
   "cell_type": "code",
   "execution_count": null,
   "metadata": {
    "execution": {
     "iopub.execute_input": "2021-08-11T06:47:07.919126Z",
     "iopub.status.busy": "2021-08-11T06:47:07.9185Z",
     "iopub.status.idle": "2021-08-11T06:47:08.63779Z",
     "shell.execute_reply": "2021-08-11T06:47:08.636908Z",
     "shell.execute_reply.started": "2021-08-11T06:47:07.919089Z"
    }
   },
   "outputs": [],
   "source": [
    "plt.figure(figsize=(25,6))\n",
    "\n",
    "sns.boxplot('RUL','EWM',data=data[data['RUL']<21])\n",
    "plt.xlim(21,0)\n",
    "plt.axhline(8850,color='black', linestyle='dashed', linewidth=1.5)\n",
    "\n",
    "#plt.axhline(1139.63,color='black', linestyle='dashed', linewidth=1.5)\n",
    "plt.title('RUL for risky EWMA per week')"
   ]
  },
  {
   "cell_type": "code",
   "execution_count": null,
   "metadata": {
    "execution": {
     "iopub.execute_input": "2021-08-11T06:47:19.05439Z",
     "iopub.status.busy": "2021-08-11T06:47:19.054049Z",
     "iopub.status.idle": "2021-08-11T06:47:20.073755Z",
     "shell.execute_reply": "2021-08-11T06:47:20.072543Z",
     "shell.execute_reply.started": "2021-08-11T06:47:19.05436Z"
    }
   },
   "outputs": [],
   "source": [
    "plt.figure(figsize=(25,6))\n",
    "\n",
    "sns.boxplot('week','EWM',data=test_data)\n",
    "plt.xlim(40,0)\n",
    "plt.axhline(8830.59,color='black', linestyle='dashed', linewidth=1.5)\n",
    "\n",
    "#plt.axhline(1139.63,color='black', linestyle='dashed', linewidth=1.5)\n",
    "plt.title('RUL for risky EWMA per week')"
   ]
  },
  {
   "cell_type": "code",
   "execution_count": null,
   "metadata": {
    "execution": {
     "iopub.execute_input": "2021-08-11T08:37:07.19414Z",
     "iopub.status.busy": "2021-08-11T08:37:07.193633Z",
     "iopub.status.idle": "2021-08-11T08:37:07.200686Z",
     "shell.execute_reply": "2021-08-11T08:37:07.199825Z",
     "shell.execute_reply.started": "2021-08-11T08:37:07.194095Z"
    }
   },
   "outputs": [],
   "source": [
    "data['Health']='Healthy'\n",
    "\n",
    "test_data['Health']='Healthy'"
   ]
  },
  {
   "cell_type": "code",
   "execution_count": null,
   "metadata": {
    "execution": {
     "iopub.execute_input": "2021-08-11T08:37:08.57197Z",
     "iopub.status.busy": "2021-08-11T08:37:08.57164Z",
     "iopub.status.idle": "2021-08-11T08:37:08.579073Z",
     "shell.execute_reply": "2021-08-11T08:37:08.577634Z",
     "shell.execute_reply.started": "2021-08-11T08:37:08.571943Z"
    }
   },
   "outputs": [],
   "source": [
    "def get_health(data):\n",
    "    for i in range(len(data)):\n",
    "        if data.loc[i,'RUL']<30:\n",
    "            if data.loc[i,'EWM']>8830:\n",
    "                data.loc[i,'Health']='Unhealthy'\n",
    "            else:\n",
    "                data.loc[i,'Health']= 'Health cannot be determined'\n",
    "                cycle= data.loc[i,'cycle']\n",
    "                engine= data.loc[i,'engine']\n",
    "                print(f'Cannot determine health for engine cycle Check manually for Engine {engine}: Cycle {cycle}')\n",
    "    #data.dropna(inplace= True)\n",
    "    return data"
   ]
  },
  {
   "cell_type": "code",
   "execution_count": null,
   "metadata": {
    "execution": {
     "iopub.execute_input": "2021-08-11T08:37:11.06881Z",
     "iopub.status.busy": "2021-08-11T08:37:11.068451Z",
     "iopub.status.idle": "2021-08-11T08:37:13.304708Z",
     "shell.execute_reply": "2021-08-11T08:37:13.30375Z",
     "shell.execute_reply.started": "2021-08-11T08:37:11.068781Z"
    }
   },
   "outputs": [],
   "source": [
    "data= get_health(data)"
   ]
  },
  {
   "cell_type": "code",
   "execution_count": null,
   "metadata": {
    "execution": {
     "iopub.execute_input": "2021-08-11T08:37:16.337043Z",
     "iopub.status.busy": "2021-08-11T08:37:16.336692Z",
     "iopub.status.idle": "2021-08-11T08:37:16.699251Z",
     "shell.execute_reply": "2021-08-11T08:37:16.69837Z",
     "shell.execute_reply.started": "2021-08-11T08:37:16.337011Z"
    }
   },
   "outputs": [],
   "source": [
    "test_data = get_health(test_data)"
   ]
  },
  {
   "cell_type": "code",
   "execution_count": null,
   "metadata": {
    "execution": {
     "iopub.execute_input": "2021-08-11T08:37:19.364563Z",
     "iopub.status.busy": "2021-08-11T08:37:19.364211Z",
     "iopub.status.idle": "2021-08-11T08:37:19.545805Z",
     "shell.execute_reply": "2021-08-11T08:37:19.544746Z",
     "shell.execute_reply.started": "2021-08-11T08:37:19.364534Z"
    }
   },
   "outputs": [],
   "source": [
    "plt.figure(figsize=(10,10))\n",
    "\n",
    "# Data to plot\n",
    "labels= 'Healthy','Unhealthy','Indefinite'\n",
    "sizes = data['Health'].value_counts()\n",
    "colors = ['forestgreen','indianred','cyan']\n",
    "explode = (0.1, 0,0.2)  # explode 3rd slice\n",
    "\n",
    "# Plot\n",
    "plt.pie(sizes, explode=explode, labels=labels, colors=colors,\n",
    "autopct='%1.1f%%', shadow=True, startangle=140)\n",
    "\n",
    "plt.axis('equal')\n",
    "\n",
    "plt.title('Distribution of Health Cycles')\n",
    "plt.show()"
   ]
  },
  {
   "cell_type": "code",
   "execution_count": null,
   "metadata": {
    "execution": {
     "iopub.execute_input": "2021-08-11T08:37:22.539087Z",
     "iopub.status.busy": "2021-08-11T08:37:22.538728Z",
     "iopub.status.idle": "2021-08-11T08:37:22.543784Z",
     "shell.execute_reply": "2021-08-11T08:37:22.542703Z",
     "shell.execute_reply.started": "2021-08-11T08:37:22.539051Z"
    }
   },
   "outputs": [],
   "source": [
    "drop_sensor=['sensor_1',\n",
    " 'sensor_5',\n",
    " 'sensor_6',\n",
    " 'sensor_10',\n",
    " 'sensor_16',\n",
    " 'sensor_18',\n",
    " 'sensor_19']"
   ]
  },
  {
   "cell_type": "code",
   "execution_count": null,
   "metadata": {
    "execution": {
     "iopub.execute_input": "2021-08-11T08:37:23.734623Z",
     "iopub.status.busy": "2021-08-11T08:37:23.734223Z",
     "iopub.status.idle": "2021-08-11T08:37:23.746472Z",
     "shell.execute_reply": "2021-08-11T08:37:23.745465Z",
     "shell.execute_reply.started": "2021-08-11T08:37:23.734592Z"
    }
   },
   "outputs": [],
   "source": [
    "test_data['Health'].value_counts()"
   ]
  },
  {
   "cell_type": "code",
   "execution_count": null,
   "metadata": {
    "execution": {
     "iopub.execute_input": "2021-08-11T08:37:43.16778Z",
     "iopub.status.busy": "2021-08-11T08:37:43.167417Z",
     "iopub.status.idle": "2021-08-11T08:37:43.189131Z",
     "shell.execute_reply": "2021-08-11T08:37:43.188281Z",
     "shell.execute_reply.started": "2021-08-11T08:37:43.16774Z"
    }
   },
   "outputs": [],
   "source": [
    "X_train_clf= data.drop(columns=['engine', 'cycle', 'setting_1', 'setting_2', 'setting_3','Health']+drop_sensor)\n",
    "\n",
    "X_test_clf= test_data.drop(columns=['engine', 'cycle', 'setting_1', 'setting_2', 'setting_3','Health']+drop_sensor)"
   ]
  },
  {
   "cell_type": "code",
   "execution_count": null,
   "metadata": {
    "execution": {
     "iopub.execute_input": "2021-08-11T08:38:02.813753Z",
     "iopub.status.busy": "2021-08-11T08:38:02.813341Z",
     "iopub.status.idle": "2021-08-11T08:38:02.819769Z",
     "shell.execute_reply": "2021-08-11T08:38:02.818857Z",
     "shell.execute_reply.started": "2021-08-11T08:38:02.813716Z"
    }
   },
   "outputs": [],
   "source": [
    "X_test_clf.columns"
   ]
  },
  {
   "cell_type": "code",
   "execution_count": null,
   "metadata": {
    "execution": {
     "iopub.execute_input": "2021-08-11T08:38:23.733156Z",
     "iopub.status.busy": "2021-08-11T08:38:23.732784Z",
     "iopub.status.idle": "2021-08-11T08:38:23.737536Z",
     "shell.execute_reply": "2021-08-11T08:38:23.736699Z",
     "shell.execute_reply.started": "2021-08-11T08:38:23.733125Z"
    }
   },
   "outputs": [],
   "source": [
    "y_train_clf = data['Health']\n",
    "\n",
    "y_test_clf= test_data['Health']"
   ]
  },
  {
   "cell_type": "code",
   "execution_count": null,
   "metadata": {
    "execution": {
     "iopub.execute_input": "2021-08-11T08:38:24.976559Z",
     "iopub.status.busy": "2021-08-11T08:38:24.976195Z",
     "iopub.status.idle": "2021-08-11T08:38:25.726188Z",
     "shell.execute_reply": "2021-08-11T08:38:25.725402Z",
     "shell.execute_reply.started": "2021-08-11T08:38:24.97653Z"
    }
   },
   "outputs": [],
   "source": [
    "from imblearn.over_sampling import SMOTE\n",
    "\n",
    "smote = SMOTE()\n",
    "\n",
    "# fit predictor and target variable\n",
    "X_train_clf, y_train_clf = smote.fit_resample(X_train_clf, y_train_clf)"
   ]
  },
  {
   "cell_type": "code",
   "execution_count": null,
   "metadata": {
    "execution": {
     "iopub.execute_input": "2021-08-11T08:38:28.40387Z",
     "iopub.status.busy": "2021-08-11T08:38:28.403277Z",
     "iopub.status.idle": "2021-08-11T08:38:28.480898Z",
     "shell.execute_reply": "2021-08-11T08:38:28.48011Z",
     "shell.execute_reply.started": "2021-08-11T08:38:28.403834Z"
    }
   },
   "outputs": [],
   "source": [
    "X_test_clf,y_test_clf=smote.fit_resample(X_test_clf,y_test_clf)"
   ]
  },
  {
   "cell_type": "code",
   "execution_count": null,
   "metadata": {
    "execution": {
     "iopub.execute_input": "2021-08-11T08:38:29.695159Z",
     "iopub.status.busy": "2021-08-11T08:38:29.694657Z",
     "iopub.status.idle": "2021-08-11T08:38:30.010264Z",
     "shell.execute_reply": "2021-08-11T08:38:30.009573Z",
     "shell.execute_reply.started": "2021-08-11T08:38:29.69513Z"
    }
   },
   "outputs": [],
   "source": [
    "from sklearn.neighbors import KNeighborsClassifier\n",
    "classifier = KNeighborsClassifier(n_neighbors = 5, metric = 'minkowski', p = 2)\n",
    "classifier.fit(X_train_clf, y_train_clf)"
   ]
  },
  {
   "cell_type": "code",
   "execution_count": null,
   "metadata": {
    "execution": {
     "iopub.execute_input": "2021-08-11T08:38:31.212017Z",
     "iopub.status.busy": "2021-08-11T08:38:31.211475Z",
     "iopub.status.idle": "2021-08-11T08:38:31.215738Z",
     "shell.execute_reply": "2021-08-11T08:38:31.214797Z",
     "shell.execute_reply.started": "2021-08-11T08:38:31.211987Z"
    }
   },
   "outputs": [],
   "source": [
    "from sklearn.metrics import recall_score,classification_report"
   ]
  },
  {
   "cell_type": "markdown",
   "metadata": {},
   "source": []
  },
  {
   "cell_type": "code",
   "execution_count": null,
   "metadata": {
    "execution": {
     "iopub.execute_input": "2021-08-11T08:38:33.868381Z",
     "iopub.status.busy": "2021-08-11T08:38:33.86803Z",
     "iopub.status.idle": "2021-08-11T08:38:40.125623Z",
     "shell.execute_reply": "2021-08-11T08:38:40.124629Z",
     "shell.execute_reply.started": "2021-08-11T08:38:33.868351Z"
    }
   },
   "outputs": [],
   "source": [
    "print(classification_report(y_train_clf, classifier.predict(X_train_clf)))"
   ]
  },
  {
   "cell_type": "code",
   "execution_count": null,
   "metadata": {
    "execution": {
     "iopub.execute_input": "2021-08-11T08:38:47.141639Z",
     "iopub.status.busy": "2021-08-11T08:38:47.141278Z",
     "iopub.status.idle": "2021-08-11T08:38:52.629278Z",
     "shell.execute_reply": "2021-08-11T08:38:52.628112Z",
     "shell.execute_reply.started": "2021-08-11T08:38:47.141612Z"
    }
   },
   "outputs": [],
   "source": [
    "print(classification_report(y_test_clf, classifier.predict(X_test_clf)))"
   ]
  },
  {
   "cell_type": "code",
   "execution_count": null,
   "metadata": {
    "execution": {
     "iopub.execute_input": "2021-08-11T08:39:12.485125Z",
     "iopub.status.busy": "2021-08-11T08:39:12.484551Z",
     "iopub.status.idle": "2021-08-11T08:39:12.501362Z",
     "shell.execute_reply": "2021-08-11T08:39:12.500341Z",
     "shell.execute_reply.started": "2021-08-11T08:39:12.485093Z"
    }
   },
   "outputs": [],
   "source": [
    "X_train_reg= data[data['Health']=='Unhealthy'].drop(columns=['engine', 'cycle', 'setting_1', 'setting_2', 'setting_3','Health','RUL']+drop_sensor)\n",
    "\n",
    "X_test_reg= test_data[test_data['Health']=='Unhealthy'].drop(columns=['engine', 'cycle', 'setting_1', 'setting_2', 'setting_3','Health','RUL']+drop_sensor)"
   ]
  },
  {
   "cell_type": "code",
   "execution_count": null,
   "metadata": {
    "execution": {
     "iopub.execute_input": "2021-08-11T08:39:13.885577Z",
     "iopub.status.busy": "2021-08-11T08:39:13.885203Z",
     "iopub.status.idle": "2021-08-11T08:39:13.901417Z",
     "shell.execute_reply": "2021-08-11T08:39:13.900162Z",
     "shell.execute_reply.started": "2021-08-11T08:39:13.885549Z"
    }
   },
   "outputs": [],
   "source": [
    "from sklearn.feature_selection import f_regression"
   ]
  },
  {
   "cell_type": "code",
   "execution_count": null,
   "metadata": {
    "execution": {
     "iopub.execute_input": "2021-08-11T08:39:45.993491Z",
     "iopub.status.busy": "2021-08-11T08:39:45.992997Z",
     "iopub.status.idle": "2021-08-11T08:39:46.008097Z",
     "shell.execute_reply": "2021-08-11T08:39:46.006772Z",
     "shell.execute_reply.started": "2021-08-11T08:39:45.993461Z"
    }
   },
   "outputs": [],
   "source": [
    "y_train_reg= data[data['Health']=='Unhealthy']['RUL']\n",
    "\n",
    "f_scores = f_regression(X_train_reg,y_train_reg)"
   ]
  },
  {
   "cell_type": "code",
   "execution_count": null,
   "metadata": {
    "execution": {
     "iopub.execute_input": "2021-08-11T08:40:01.584414Z",
     "iopub.status.busy": "2021-08-11T08:40:01.584025Z",
     "iopub.status.idle": "2021-08-11T08:40:01.859271Z",
     "shell.execute_reply": "2021-08-11T08:40:01.858281Z",
     "shell.execute_reply.started": "2021-08-11T08:40:01.584381Z"
    }
   },
   "outputs": [],
   "source": [
    "#The first array consists of f score-values that we need\n",
    "\n",
    "p_series= pd.Series(f_scores[0],index= X_train_reg.columns)\n",
    "\n",
    "p_series.plot(kind='bar',color='blue')\n",
    "\n",
    "plt.title('F-score  for numerical features')"
   ]
  },
  {
   "cell_type": "code",
   "execution_count": null,
   "metadata": {
    "execution": {
     "iopub.execute_input": "2021-08-11T08:40:14.128576Z",
     "iopub.status.busy": "2021-08-11T08:40:14.128212Z",
     "iopub.status.idle": "2021-08-11T08:40:14.132538Z",
     "shell.execute_reply": "2021-08-11T08:40:14.131797Z",
     "shell.execute_reply.started": "2021-08-11T08:40:14.128546Z"
    }
   },
   "outputs": [],
   "source": [
    "least_f=['sensor_2','sensor_3','sensor_7','sensor_8','sensor_9','sensor_11']"
   ]
  },
  {
   "cell_type": "code",
   "execution_count": null,
   "metadata": {
    "execution": {
     "iopub.execute_input": "2021-08-11T08:40:23.636559Z",
     "iopub.status.busy": "2021-08-11T08:40:23.636029Z",
     "iopub.status.idle": "2021-08-11T08:40:23.651752Z",
     "shell.execute_reply": "2021-08-11T08:40:23.650921Z",
     "shell.execute_reply.started": "2021-08-11T08:40:23.636524Z"
    }
   },
   "outputs": [],
   "source": [
    "X_train_reg= data[data['Health']=='Unhealthy'].drop(columns=['engine', 'cycle', 'setting_1', 'setting_2', 'setting_3','Health','RUL']+drop_sensor+least_f)\n",
    "\n",
    "X_test_reg= test_data[test_data['Health']=='Unhealthy'].drop(columns=['engine', 'cycle', 'setting_1', 'setting_2', 'setting_3','Health','RUL']+drop_sensor+least_f)"
   ]
  },
  {
   "cell_type": "code",
   "execution_count": null,
   "metadata": {
    "execution": {
     "iopub.execute_input": "2021-08-11T08:40:32.798948Z",
     "iopub.status.busy": "2021-08-11T08:40:32.798599Z",
     "iopub.status.idle": "2021-08-11T08:40:32.811121Z",
     "shell.execute_reply": "2021-08-11T08:40:32.81028Z",
     "shell.execute_reply.started": "2021-08-11T08:40:32.798919Z"
    }
   },
   "outputs": [],
   "source": [
    "y_train_reg= data[data['Health']=='Unhealthy']['RUL']\n",
    "\n",
    "y_test_reg= test_data[test_data['Health']=='Unhealthy']['RUL']"
   ]
  },
  {
   "cell_type": "code",
   "execution_count": null,
   "metadata": {
    "execution": {
     "iopub.execute_input": "2021-08-11T08:40:44.303338Z",
     "iopub.status.busy": "2021-08-11T08:40:44.302863Z",
     "iopub.status.idle": "2021-08-11T08:41:15.510511Z",
     "shell.execute_reply": "2021-08-11T08:41:15.509519Z",
     "shell.execute_reply.started": "2021-08-11T08:40:44.303281Z"
    }
   },
   "outputs": [],
   "source": [
    "from sklearn.ensemble import RandomForestRegressor\n",
    "\n",
    "from sklearn.model_selection import RandomizedSearchCV\n",
    "\n",
    "#Random Forest Regressor param_dict\n",
    "n_estimators = [30,50,80,100,120,150]\n",
    "max_depth = [4,6,8,10,12]\n",
    "min_samples_split = [50,80,100,150,200]\n",
    "min_samples_leaf = [10,30,40,50,60,80]\n",
    "# HYperparameter Dict\n",
    "param_dict = {'n_estimators' : n_estimators,\n",
    "              'max_depth' : max_depth,\n",
    "              'min_samples_split' : min_samples_split,\n",
    "              'min_samples_leaf' : min_samples_leaf}\n",
    "# Create an instance of the random forest regressor\n",
    "rf_model = RandomForestRegressor()\n",
    "\n",
    "#RandomSearch\n",
    "rf_random = RandomizedSearchCV(rf_model,param_dict,verbose=0,cv=5)\n",
    "rf_random.fit(X_train_reg,y_train_reg)"
   ]
  },
  {
   "cell_type": "code",
   "execution_count": null,
   "metadata": {
    "execution": {
     "iopub.execute_input": "2021-08-11T08:41:15.51233Z",
     "iopub.status.busy": "2021-08-11T08:41:15.51203Z",
     "iopub.status.idle": "2021-08-11T08:41:15.531915Z",
     "shell.execute_reply": "2021-08-11T08:41:15.530953Z",
     "shell.execute_reply.started": "2021-08-11T08:41:15.512288Z"
    }
   },
   "outputs": [],
   "source": [
    "#Building optimal model on the best estimators\n",
    "rf_optimal_model = rf_random.best_estimator_\n",
    "\n",
    "# make predictions for test data\n",
    "y_hat = rf_optimal_model.predict(X_test_reg)"
   ]
  },
  {
   "cell_type": "code",
   "execution_count": null,
   "metadata": {
    "execution": {
     "iopub.execute_input": "2021-08-11T08:41:15.533741Z",
     "iopub.status.busy": "2021-08-11T08:41:15.533448Z",
     "iopub.status.idle": "2021-08-11T08:41:15.542449Z",
     "shell.execute_reply": "2021-08-11T08:41:15.541523Z",
     "shell.execute_reply.started": "2021-08-11T08:41:15.533713Z"
    }
   },
   "outputs": [],
   "source": [
    "def smape(A, F):\n",
    "    return 100/len(A) * np.sum(2 * np.abs(F - A) / (np.abs(A) + np.abs(F)))\n"
   ]
  },
  {
   "cell_type": "code",
   "execution_count": null,
   "metadata": {
    "execution": {
     "iopub.execute_input": "2021-08-11T08:41:16.055377Z",
     "iopub.status.busy": "2021-08-11T08:41:16.054565Z",
     "iopub.status.idle": "2021-08-11T08:41:16.060751Z",
     "shell.execute_reply": "2021-08-11T08:41:16.059802Z",
     "shell.execute_reply.started": "2021-08-11T08:41:16.055328Z"
    }
   },
   "outputs": [],
   "source": [
    "rms=[]\n",
    "\n",
    "sma=[]\n",
    "\n",
    "model=[]\n",
    "\n",
    "variance=[]"
   ]
  },
  {
   "cell_type": "code",
   "execution_count": null,
   "metadata": {
    "execution": {
     "iopub.execute_input": "2021-08-11T08:41:34.017469Z",
     "iopub.status.busy": "2021-08-11T08:41:34.017118Z",
     "iopub.status.idle": "2021-08-11T08:41:34.023967Z",
     "shell.execute_reply": "2021-08-11T08:41:34.023301Z",
     "shell.execute_reply.started": "2021-08-11T08:41:34.017441Z"
    }
   },
   "outputs": [],
   "source": [
    "#This function calculates R2, SMAPE and RMSE for the models that we enter for test and train sets\n",
    "from sklearn.metrics import mean_squared_error,r2_score\n",
    "def evaluate(m,y_true, y_hat, label='test'):\n",
    "    mse = mean_squared_error(y_true, y_hat)\n",
    "    rmse = np.sqrt(mse)\n",
    "    var = r2_score(y_true, y_hat)\n",
    "    s= smape(y_true,y_hat)\n",
    "    print('{}: {} set RMSE:{}, SMAPE: {}, R Squared : {}'.format(m,label, rmse,s,var))\n",
    "    rms.append(rmse)\n",
    "    sma.append(s)\n",
    "    model.append(m)\n",
    "    variance.append(var)"
   ]
  },
  {
   "cell_type": "code",
   "execution_count": null,
   "metadata": {
    "execution": {
     "iopub.execute_input": "2021-08-11T08:41:43.279784Z",
     "iopub.status.busy": "2021-08-11T08:41:43.279268Z",
     "iopub.status.idle": "2021-08-11T08:41:43.317289Z",
     "shell.execute_reply": "2021-08-11T08:41:43.316314Z",
     "shell.execute_reply.started": "2021-08-11T08:41:43.27974Z"
    }
   },
   "outputs": [],
   "source": [
    "evaluate('Random Forest Regressor',y_train_reg,rf_optimal_model.predict(X_train_reg),'train')"
   ]
  },
  {
   "cell_type": "code",
   "execution_count": null,
   "metadata": {
    "execution": {
     "iopub.execute_input": "2021-08-11T08:41:54.789449Z",
     "iopub.status.busy": "2021-08-11T08:41:54.788915Z",
     "iopub.status.idle": "2021-08-11T08:41:54.796366Z",
     "shell.execute_reply": "2021-08-11T08:41:54.795674Z",
     "shell.execute_reply.started": "2021-08-11T08:41:54.789416Z"
    }
   },
   "outputs": [],
   "source": [
    "evaluate('Random Forest Regressor',y_test_reg,y_hat)"
   ]
  },
  {
   "cell_type": "code",
   "execution_count": null,
   "metadata": {
    "execution": {
     "iopub.execute_input": "2021-08-11T08:42:06.488935Z",
     "iopub.status.busy": "2021-08-11T08:42:06.4886Z",
     "iopub.status.idle": "2021-08-11T08:42:06.533809Z",
     "shell.execute_reply": "2021-08-11T08:42:06.532778Z",
     "shell.execute_reply.started": "2021-08-11T08:42:06.488907Z"
    }
   },
   "outputs": [],
   "source": [
    "from sklearn.linear_model import LinearRegression\n",
    "# create and fit model\n",
    "lm = LinearRegression()\n",
    "lm.fit(X_train_reg, y_train_reg)\n",
    "\n",
    "# predict and evaluate\n",
    "y_hat_train_reg = lm.predict(X_train_reg)\n",
    "evaluate('Linear Regression',y_train_reg, y_hat_train_reg, 'train')\n",
    "\n",
    "y_hat_test = lm.predict(X_test_reg)\n",
    "evaluate('Linear Regression',y_test_reg, y_hat_test)"
   ]
  },
  {
   "cell_type": "code",
   "execution_count": null,
   "metadata": {
    "execution": {
     "iopub.execute_input": "2021-08-11T08:42:18.031272Z",
     "iopub.status.busy": "2021-08-11T08:42:18.030912Z",
     "iopub.status.idle": "2021-08-11T08:42:18.273752Z",
     "shell.execute_reply": "2021-08-11T08:42:18.27278Z",
     "shell.execute_reply.started": "2021-08-11T08:42:18.031243Z"
    }
   },
   "outputs": [],
   "source": [
    "from xgboost import XGBRegressor"
   ]
  },
  {
   "cell_type": "code",
   "execution_count": null,
   "metadata": {
    "execution": {
     "iopub.execute_input": "2021-08-11T08:42:28.65247Z",
     "iopub.status.busy": "2021-08-11T08:42:28.652086Z",
     "iopub.status.idle": "2021-08-11T08:42:42.177563Z",
     "shell.execute_reply": "2021-08-11T08:42:42.176486Z",
     "shell.execute_reply.started": "2021-08-11T08:42:28.652437Z"
    }
   },
   "outputs": [],
   "source": [
    "# Number of trees\n",
    "n_estimators = [50,80,100]\n",
    "\n",
    "# Maximum depth of trees\n",
    "max_depth = [4,6,8]\n",
    "\n",
    "# Minimum number of samples required to split a node\n",
    "min_samples_split = [50,100,150]\n",
    "\n",
    "# Minimum number of samples required at each leaf node\n",
    "min_samples_leaf = [40,50]\n",
    "\n",
    "# HYperparameter Dict\n",
    "param_dict = {'n_estimators' : n_estimators,\n",
    "              'max_depth' : max_depth,\n",
    "              'min_samples_split' : min_samples_split,\n",
    "              'min_samples_leaf' : min_samples_leaf}\n",
    "\n",
    "# Create an instance of the XGBoost\n",
    "xgb_model = XGBRegressor(learning_rate=0.1)\n",
    "\n",
    "#RandomSearch\n",
    "xgb_random = RandomizedSearchCV(xgb_model,param_dict,verbose=2,cv=5)\n",
    "\n",
    "\n",
    "xgb_random.fit(X_train_reg,y_train_reg)"
   ]
  },
  {
   "cell_type": "code",
   "execution_count": null,
   "metadata": {
    "execution": {
     "iopub.execute_input": "2021-08-11T08:42:50.942501Z",
     "iopub.status.busy": "2021-08-11T08:42:50.942112Z",
     "iopub.status.idle": "2021-08-11T08:42:50.946722Z",
     "shell.execute_reply": "2021-08-11T08:42:50.945577Z",
     "shell.execute_reply.started": "2021-08-11T08:42:50.942468Z"
    }
   },
   "outputs": [],
   "source": [
    "#Building optimal model on the best estimators\n",
    "xgb_model = xgb_random.best_estimator_"
   ]
  },
  {
   "cell_type": "code",
   "execution_count": null,
   "metadata": {
    "execution": {
     "iopub.execute_input": "2021-08-11T08:42:58.968912Z",
     "iopub.status.busy": "2021-08-11T08:42:58.968559Z",
     "iopub.status.idle": "2021-08-11T08:42:58.981312Z",
     "shell.execute_reply": "2021-08-11T08:42:58.980323Z",
     "shell.execute_reply.started": "2021-08-11T08:42:58.968883Z"
    }
   },
   "outputs": [],
   "source": [
    "# make predictions for test data\n",
    "y_pred = xgb_model.predict(X_test_reg)\n",
    "\n",
    "y_hat_train_reg = xgb_model.predict(X_train_reg)"
   ]
  },
  {
   "cell_type": "code",
   "execution_count": null,
   "metadata": {
    "execution": {
     "iopub.execute_input": "2021-08-11T08:43:05.689444Z",
     "iopub.status.busy": "2021-08-11T08:43:05.689077Z",
     "iopub.status.idle": "2021-08-11T08:43:05.707061Z",
     "shell.execute_reply": "2021-08-11T08:43:05.705492Z",
     "shell.execute_reply.started": "2021-08-11T08:43:05.689415Z"
    }
   },
   "outputs": [],
   "source": [
    "# predict and evaluate\n",
    "y_hat_train_reg = xgb_model.predict(X_train_reg)\n",
    "evaluate('XGBoost Regressor',y_train_reg, y_hat_train_reg, 'train')\n",
    "evaluate('XGBoost Regressor',y_test_reg, y_pred)"
   ]
  },
  {
   "cell_type": "code",
   "execution_count": null,
   "metadata": {
    "execution": {
     "iopub.execute_input": "2021-08-11T08:43:14.38379Z",
     "iopub.status.busy": "2021-08-11T08:43:14.383248Z",
     "iopub.status.idle": "2021-08-11T08:43:15.668541Z",
     "shell.execute_reply": "2021-08-11T08:43:15.667535Z",
     "shell.execute_reply.started": "2021-08-11T08:43:14.38375Z"
    }
   },
   "outputs": [],
   "source": [
    "import lightgbm as lgb\n",
    "reg = lgb.LGBMRegressor()\n",
    "reg.fit(X_train_reg, y_train_reg)"
   ]
  },
  {
   "cell_type": "code",
   "execution_count": null,
   "metadata": {
    "execution": {
     "iopub.execute_input": "2021-08-11T08:43:43.778966Z",
     "iopub.status.busy": "2021-08-11T08:43:43.778597Z",
     "iopub.status.idle": "2021-08-11T08:43:47.943356Z",
     "shell.execute_reply": "2021-08-11T08:43:47.942446Z",
     "shell.execute_reply.started": "2021-08-11T08:43:43.778936Z"
    }
   },
   "outputs": [],
   "source": [
    "# Number of trees\n",
    "n_estimators = [50,80,100]\n",
    "\n",
    "# Minimum number of samples required to split a node\n",
    "min_samples_split = [50,100,150]\n",
    "\n",
    "# Minimum number of samples required at each leaf node\n",
    "min_samples_leaf = [40,50]\n",
    "\n",
    "# HYperparameter Dict\n",
    "param_dict = {'n_estimators' : n_estimators,\n",
    "              'max_depth' : max_depth,\n",
    "              'min_samples_split' : min_samples_split,\n",
    "              'min_samples_leaf' : min_samples_leaf}\n",
    "\n",
    "# Create an instance of the XGBoost\n",
    "lgb_model = lgb.LGBMRegressor(learning_rate=0.05)\n",
    "\n",
    "#RandomSearch\n",
    "lgb_random = RandomizedSearchCV(lgb_model,param_dict,verbose=2,cv=5)\n",
    "# Maximum depth of trees\n",
    "max_depth = [4,6,8]\n",
    "\n",
    "\n",
    "lgb_random.fit(X_train_reg,y_train_reg)\n"
   ]
  },
  {
   "cell_type": "code",
   "execution_count": null,
   "metadata": {
    "execution": {
     "iopub.execute_input": "2021-08-11T08:43:58.750833Z",
     "iopub.status.busy": "2021-08-11T08:43:58.75022Z",
     "iopub.status.idle": "2021-08-11T08:43:58.766934Z",
     "shell.execute_reply": "2021-08-11T08:43:58.765934Z",
     "shell.execute_reply.started": "2021-08-11T08:43:58.750786Z"
    }
   },
   "outputs": [],
   "source": [
    "#Building optimal model on the best estimators\n",
    "lgb_model = lgb_random.best_estimator_\n",
    "\n",
    "# make predictions for test data\n",
    "y_pred_lgb = lgb_model.predict(X_test_reg)\n",
    "\n",
    "y_hat_train_reg =  lgb_model.predict(X_train_reg)"
   ]
  },
  {
   "cell_type": "code",
   "execution_count": null,
   "metadata": {
    "execution": {
     "iopub.execute_input": "2021-08-11T08:44:08.288615Z",
     "iopub.status.busy": "2021-08-11T08:44:08.288101Z",
     "iopub.status.idle": "2021-08-11T08:44:08.301479Z",
     "shell.execute_reply": "2021-08-11T08:44:08.300288Z",
     "shell.execute_reply.started": "2021-08-11T08:44:08.288574Z"
    }
   },
   "outputs": [],
   "source": [
    "# predict and evaluate\n",
    "evaluate('Light GBM Regressor',y_train_reg, y_hat_train_reg, 'train')\n",
    "evaluate('Light GBM Regressor',y_test_reg, y_pred_lgb)"
   ]
  },
  {
   "cell_type": "code",
   "execution_count": null,
   "metadata": {
    "execution": {
     "iopub.execute_input": "2021-08-11T08:44:38.41693Z",
     "iopub.status.busy": "2021-08-11T08:44:38.416603Z",
     "iopub.status.idle": "2021-08-11T08:44:38.421068Z",
     "shell.execute_reply": "2021-08-11T08:44:38.420071Z",
     "shell.execute_reply.started": "2021-08-11T08:44:38.416901Z"
    }
   },
   "outputs": [],
   "source": [
    "model=['Random Forest Regressor','Linear Regression','XGBoost Regressor','Light GBM Regressor']"
   ]
  },
  {
   "cell_type": "code",
   "execution_count": null,
   "metadata": {
    "execution": {
     "iopub.execute_input": "2021-08-11T08:44:54.305425Z",
     "iopub.status.busy": "2021-08-11T08:44:54.304923Z",
     "iopub.status.idle": "2021-08-11T08:44:54.313208Z",
     "shell.execute_reply": "2021-08-11T08:44:54.31241Z",
     "shell.execute_reply.started": "2021-08-11T08:44:54.305371Z"
    }
   },
   "outputs": [],
   "source": [
    "rmse_train= []\n",
    "\n",
    "smape_train= []\n",
    "\n",
    "rmse_test=[]\n",
    "\n",
    "smape_test=[]\n",
    "\n",
    "r_train=[]\n",
    "\n",
    "r_test=[]\n",
    "\n",
    "for i in range(len(rms)):\n",
    "    if i%2==0:\n",
    "        rmse_train.append(rms[i])\n",
    "        smape_train.append(sma[i])\n",
    "        r_train.append(variance[i])\n",
    "    else:\n",
    "        rmse_test.append(rms[i])\n",
    "        smape_test.append(sma[i])\n",
    "        r_test.append(variance[i])"
   ]
  },
  {
   "cell_type": "code",
   "execution_count": null,
   "metadata": {
    "execution": {
     "iopub.execute_input": "2021-08-11T08:45:31.247088Z",
     "iopub.status.busy": "2021-08-11T08:45:31.246586Z",
     "iopub.status.idle": "2021-08-11T08:45:31.256921Z",
     "shell.execute_reply": "2021-08-11T08:45:31.25596Z",
     "shell.execute_reply.started": "2021-08-11T08:45:31.247057Z"
    }
   },
   "outputs": [],
   "source": [
    "scores=pd.DataFrame()\n",
    "scores['Model']=model\n",
    "scores['RMSE Train']=rmse_train\n",
    "\n",
    "scores['R_Squared Train']= r_train\n",
    "\n",
    "scores['R_Squared Test']= r_test\n",
    "\n",
    "scores['RMSE Test']= rmse_test\n",
    "\n",
    "scores['SMAPE Train']= smape_train\n",
    "\n",
    "scores['SMAPE Test']=smape_test"
   ]
  },
  {
   "cell_type": "code",
   "execution_count": null,
   "metadata": {
    "execution": {
     "iopub.execute_input": "2021-08-11T08:45:43.723693Z",
     "iopub.status.busy": "2021-08-11T08:45:43.723138Z",
     "iopub.status.idle": "2021-08-11T08:45:43.738183Z",
     "shell.execute_reply": "2021-08-11T08:45:43.737189Z",
     "shell.execute_reply.started": "2021-08-11T08:45:43.723661Z"
    }
   },
   "outputs": [],
   "source": [
    "scores"
   ]
  },
  {
   "cell_type": "code",
   "execution_count": null,
   "metadata": {
    "execution": {
     "iopub.execute_input": "2021-08-11T08:46:03.620982Z",
     "iopub.status.busy": "2021-08-11T08:46:03.62059Z",
     "iopub.status.idle": "2021-08-11T08:46:03.819745Z",
     "shell.execute_reply": "2021-08-11T08:46:03.8189Z",
     "shell.execute_reply.started": "2021-08-11T08:46:03.620947Z"
    }
   },
   "outputs": [],
   "source": [
    "ax=plt.figure(figsize=(20,10))\n",
    "# creating subplots\n",
    "ax = plt.subplots()\n",
    "# plotting columns\n",
    "ax = sns.pointplot(x=scores[\"RMSE Train\"], y=scores[\"Model\"], color='b',alpha=0.2,labels=('RMSE SCORE TRAIN'))\n",
    "ax = sns.pointplot(x=scores[\"RMSE Test\"], y=scores[\"Model\"], color='r',alpha=0.7,labels=('RMSE SCORE TEST'))\n",
    "# renaming the axes\n",
    "ax.set(xlabel=\"RMSE\", ylabel=\"Model\")\n",
    "ax.legend(handles=ax.lines[::len(scores)+1], labels=[\"RMSE Train\",\"RMSE Test\"])\n",
    "\n",
    "\n",
    "# visulaizing illustration\n",
    "plt.show()"
   ]
  },
  {
   "cell_type": "code",
   "execution_count": null,
   "metadata": {
    "execution": {
     "iopub.execute_input": "2021-08-11T08:47:18.208586Z",
     "iopub.status.busy": "2021-08-11T08:47:18.208231Z",
     "iopub.status.idle": "2021-08-11T08:47:18.213213Z",
     "shell.execute_reply": "2021-08-11T08:47:18.21249Z",
     "shell.execute_reply.started": "2021-08-11T08:47:18.208557Z"
    }
   },
   "outputs": [],
   "source": [
    "y_actual= y_test_reg.tolist()\n",
    "\n",
    "y_pred= y_pred.tolist()"
   ]
  },
  {
   "cell_type": "code",
   "execution_count": null,
   "metadata": {
    "execution": {
     "iopub.execute_input": "2021-08-11T08:48:24.296611Z",
     "iopub.status.busy": "2021-08-11T08:48:24.296077Z",
     "iopub.status.idle": "2021-08-11T08:48:24.301522Z",
     "shell.execute_reply": "2021-08-11T08:48:24.300569Z",
     "shell.execute_reply.started": "2021-08-11T08:48:24.296575Z"
    }
   },
   "outputs": [],
   "source": [
    "index=[]\n",
    "for i in range (len(y_actual)):\n",
    "    index.append(i)"
   ]
  },
  {
   "cell_type": "code",
   "execution_count": null,
   "metadata": {
    "execution": {
     "iopub.execute_input": "2021-08-11T08:48:25.583166Z",
     "iopub.status.busy": "2021-08-11T08:48:25.58266Z",
     "iopub.status.idle": "2021-08-11T08:48:25.812063Z",
     "shell.execute_reply": "2021-08-11T08:48:25.811341Z",
     "shell.execute_reply.started": "2021-08-11T08:48:25.583123Z"
    }
   },
   "outputs": [],
   "source": [
    "plt.figure(figsize=(16,5))\n",
    "\n",
    "plt.plot(index,y_actual,color='red',linestyle='dashed')\n",
    "\n",
    "plt.plot(index,y_pred,color='blue')\n",
    "\n",
    "plt.ylabel('RUL')\n",
    "\n",
    "plt.xlabel('Index')\n",
    "\n",
    "plt.title('Actual vs Predicted')\n",
    "\n",
    "plt.legend(['Actual','Predicted'])"
   ]
  },
  {
   "cell_type": "code",
   "execution_count": null,
   "metadata": {
    "execution": {
     "iopub.execute_input": "2021-08-11T08:48:54.06647Z",
     "iopub.status.busy": "2021-08-11T08:48:54.066098Z",
     "iopub.status.idle": "2021-08-11T08:49:02.394231Z",
     "shell.execute_reply": "2021-08-11T08:49:02.393249Z",
     "shell.execute_reply.started": "2021-08-11T08:48:54.066437Z"
    }
   },
   "outputs": [],
   "source": [
    "import shap"
   ]
  },
  {
   "cell_type": "code",
   "execution_count": null,
   "metadata": {
    "execution": {
     "iopub.execute_input": "2021-08-11T08:49:02.39616Z",
     "iopub.status.busy": "2021-08-11T08:49:02.39583Z",
     "iopub.status.idle": "2021-08-11T08:49:02.671895Z",
     "shell.execute_reply": "2021-08-11T08:49:02.671232Z",
     "shell.execute_reply.started": "2021-08-11T08:49:02.396126Z"
    }
   },
   "outputs": [],
   "source": [
    "# Create object that can calculate shap values\n",
    "explainer = shap.TreeExplainer(xgb_model)\n",
    "# Calculate Shap values\n",
    "shap_values =shap.TreeExplainer(xgb_model).shap_values(pd.DataFrame(X_train_reg, columns=X_train_reg.columns))"
   ]
  },
  {
   "cell_type": "code",
   "execution_count": null,
   "metadata": {
    "execution": {
     "iopub.execute_input": "2021-08-11T08:49:12.363099Z",
     "iopub.status.busy": "2021-08-11T08:49:12.362605Z",
     "iopub.status.idle": "2021-08-11T08:49:13.293364Z",
     "shell.execute_reply": "2021-08-11T08:49:13.292437Z",
     "shell.execute_reply.started": "2021-08-11T08:49:12.363066Z"
    }
   },
   "outputs": [],
   "source": [
    "shap.summary_plot(shap_values, X_train_reg, feature_names=X_train_reg.columns.tolist())"
   ]
  },
  {
   "cell_type": "code",
   "execution_count": null,
   "metadata": {},
   "outputs": [],
   "source": []
  },
  {
   "cell_type": "code",
   "execution_count": null,
   "metadata": {},
   "outputs": [],
   "source": []
  }
 ],
 "metadata": {
  "kernelspec": {
   "display_name": "Python 3 (ipykernel)",
   "language": "python",
   "name": "python3"
  },
  "language_info": {
   "codemirror_mode": {
    "name": "ipython",
    "version": 3
   },
   "file_extension": ".py",
   "mimetype": "text/x-python",
   "name": "python",
   "nbconvert_exporter": "python",
   "pygments_lexer": "ipython3",
   "version": "3.9.7"
  }
 },
 "nbformat": 4,
 "nbformat_minor": 4
}
